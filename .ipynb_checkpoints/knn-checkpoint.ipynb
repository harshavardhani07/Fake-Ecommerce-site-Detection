{
 "cells": [
  {
   "cell_type": "code",
   "execution_count": 19,
   "id": "27d8dcf5",
   "metadata": {},
   "outputs": [],
   "source": [
    "import numpy as np\n",
    "\n",
    "from scipy import stats\n",
    "from sklearn.model_selection import train_test_split\n",
    "import pandas as pd\n",
    "from sklearn.preprocessing import LabelEncoder\n",
    "data=pd.read_csv(\"raw_data.csv\")\n",
    "data.drop(['identifierHash','type','country','language','hasAnyApp','socialProductsLiked','civilityTitle','civilityGenderId','seniorityAsMonths','seniorityAsYears','countryCode','productsWished','productsBought','hasAndroidApp','hasIosApp'],axis=1,inplace=True)"
   ]
  },
  {
   "cell_type": "code",
   "execution_count": 20,
   "id": "6f0c615f",
   "metadata": {},
   "outputs": [],
   "source": [
    "def pure_round(num):\n",
    "    integer = int(num)\n",
    "    fraction = num - float(integer)\n",
    "    if fraction >= 0.5:\n",
    "        integer += 1\n",
    "    return integer\n",
    "data = data[data['productsListed'] != 0]\n",
    "for i in data.index:\n",
    "    case_no = data.loc[i,'productsSold']\n",
    "    pass_no = pure_round((case_no * data.loc[i,'productsPassRate']) / 100)\n",
    "    fail_no = case_no - pass_no\n",
    "    data.loc[i,'productsPassed'] = pass_no\n",
    "    data.loc[i,'productsFailed'] = fail_no\n",
    "    if case_no == 0:\n",
    "        data.drop(i, axis=0, inplace=True)\n",
    " \n",
    "data.drop(['productsPassRate','productsSold'], axis=1, inplace=True)\n",
    "\n",
    "Encodedict = {}\n",
    "for i in ['gender','hasProfilePicture']:\n",
    "    key = '_{}'.format(i)\n",
    "    le = LabelEncoder()\n",
    "    data[key] = le.fit_transform(list(data[i]))\n",
    "    Encodedict[key] = le.classes_                          \n",
    "    \n",
    "data.drop(['gender','hasProfilePicture'], axis=1, inplace=True)\n",
    "\n",
    "dfdict = {}\n",
    "for j in data.index:\n",
    "    x = data.loc[j,'productsPassed']\n",
    "    y = data.loc[j,'productsFailed']\n",
    "    if x != 0:\n",
    "        data.loc[j,'Fraud'] = 0\n",
    "        df = pd.DataFrame(data.loc[j,:]).transpose()\n",
    "        ldf = pd.concat([df]*int(x), ignore_index=True)\n",
    "    \n",
    "    if y != 0:\n",
    "        data.loc[j,'Fraud'] = 1\n",
    "        df2 = pd.DataFrame(data.loc[j,:]).transpose()\n",
    "        ldf2 = pd.concat([df2]*int(y), ignore_index=True)\n",
    "    \n",
    "    if x != 0 and y != 0:\n",
    "        dfdict[j] = pd.concat([ldf, ldf2], ignore_index=True)\n",
    "    elif x != 0:\n",
    "        dfdict[j] = ldf\n",
    "    else:\n",
    "        dfdict[j] = ldf2\n",
    "\n",
    "whole_df = pd.concat(dfdict.values(), ignore_index=True)\n",
    "whole_df.drop(['productsPassed','productsFailed'], axis=1, inplace=True)\n",
    "# whole_df.to_csv\n",
    "\n",
    "# Assuming 'Fraud' is your target variable\n",
    "X = whole_df.drop('Fraud', axis=1)  # Features\n",
    "y = whole_df['Fraud']  # Target variable\n",
    "\n",
    "# Splitting the data into train and test sets (80% train, 20% test)\n",
    "X_train, X_test, y_train, y_test = train_test_split(X, y, test_size=0.2, random_state=42)\n",
    "\n",
    "# Optionally, you can reset index for train and test sets\n",
    "X_train.reset_index(drop=True, inplace=True)\n",
    "X_test.reset_index(drop=True, inplace=True)\n",
    "y_train.reset_index(drop=True, inplace=True)\n",
    "y_test.reset_index(drop=True, inplace=True)\n",
    "\n",
    "# Now X_train, X_test, y_train, y_test con"
   ]
  },
  {
   "cell_type": "code",
   "execution_count": 21,
   "id": "8225e920",
   "metadata": {},
   "outputs": [],
   "source": [
    "class KNN:\n",
    "    def __init__(self, k):\n",
    "        self.k = k\n",
    "\n",
    "    def fit(self, X_train, y_train):\n",
    "        self.X_train = X_train\n",
    "        self.y_train = y_train\n",
    "\n",
    "    def predict(self, X_test):\n",
    "        m = self.X_train.shape[0]\n",
    "        n = X_test.shape[0]\n",
    "        y_pred = []\n",
    "\n",
    "        # Calculating distances\n",
    "        for i in range(n):  # for every sample in X_test\n",
    "            distance = []  # To store the distances\n",
    "            for j in range(m):  # for every sample in X_train\n",
    "    # Euclidean distance\n",
    "              d = (np.sqrt(np.sum(np.square(X_test.iloc[i, :] - self.X_train.iloc[j, :]))))\n",
    "              distance.append((d, self.y_train[j]))\n",
    "\n",
    "            distance = sorted(distance)  # sorting distances in ascending order\n",
    "\n",
    "            neighbors = []\n",
    "            for item in range(self.k):\n",
    "                # appending K nearest neighbors\n",
    "                neighbors.append(distance[item][1])\n",
    "\n",
    "            # Making predictions\n",
    "                        # Making predictions\n",
    "            if neighbors:  # Check if neighbors is not empty\n",
    "                mode_result = stats.mode(neighbors)\n",
    "                mode_value = mode_result.mode  # Get the mode value directly\n",
    "    \n",
    "               # Append the mode value to y_pred\n",
    "                y_pred.append(mode_value)\n",
    "            else:\n",
    "    # Handle case where neighbors is empty\n",
    "    # You can choose to handle this case differently based on your requirements\n",
    "                 y_pred.append(None)  # Append None or any other suitable value\n",
    "\n",
    "        return y_pred"
   ]
  },
  {
   "cell_type": "code",
   "execution_count": 22,
   "id": "e633ccd7",
   "metadata": {},
   "outputs": [],
   "source": [
    "knn = KNN(k=5)"
   ]
  },
  {
   "cell_type": "code",
   "execution_count": 23,
   "id": "9cd6e2af",
   "metadata": {},
   "outputs": [],
   "source": [
    "knn.fit(X_train, y_train)"
   ]
  },
  {
   "cell_type": "code",
   "execution_count": 24,
   "id": "f161898f",
   "metadata": {},
   "outputs": [],
   "source": [
    "y_pred = knn.predict(X_test)"
   ]
  },
  {
   "cell_type": "code",
   "execution_count": 12,
   "id": "57a7fc46",
   "metadata": {},
   "outputs": [],
   "source": [
    "import numpy as np\n",
    "from scipy import stats\n",
    "import matplotlib.pyplot as plt\n",
    "import seaborn as sns\n",
    "from sklearn.datasets import load_iris\n",
    "from sklearn.model_selection import train_test_split\n",
    "from sklearn.preprocessing import StandardScaler\n",
    "from sklearn.neighbors import KNeighborsClassifier\n",
    "from sklearn.metrics import accuracy_score, confusion_matrix, classification_report"
   ]
  },
  {
   "cell_type": "code",
   "execution_count": 18,
   "id": "9ed2a788",
   "metadata": {},
   "outputs": [
    {
     "name": "stdout",
     "output_type": "stream",
     "text": [
      "Accuracy:  100.0 %\n"
     ]
    }
   ],
   "source": [
    "knn= KNeighborsClassifier(n_neighbors=5)\n",
    "\n",
    "# Fitting the data\n",
    "knn.fit(X_train,y_train)\n",
    "\n",
    "pred = knn.predict(X_test)\n",
    "# Model evaluation\n",
    "print(\"Accuracy using KNN library: \", 100*np.round(accuracy_score(pred,y_test), 5), \"%\")\n",
    "print(\"Accuracy using code from scratch: \", 100*np.round(accuracy_score(y_pred,y_test), 5), \"%\")"
   ]
  },
  {
   "cell_type": "code",
   "execution_count": 16,
   "id": "9cef7432",
   "metadata": {},
   "outputs": [
    {
     "name": "stdout",
     "output_type": "stream",
     "text": [
      "0.0\n"
     ]
    }
   ],
   "source": [
    "from sklearn.metrics import recall_score\n",
    "recall = recall_score(y_test, y_pred,pos_label=1)\n",
    "print(recall)"
   ]
  },
  {
   "cell_type": "code",
   "execution_count": null,
   "id": "07435256",
   "metadata": {},
   "outputs": [],
   "source": [
    "length = len(y_pred)\n",
    "print(length)"
   ]
  },
  {
   "cell_type": "code",
   "execution_count": null,
   "id": "8e7f22d6",
   "metadata": {},
   "outputs": [],
   "source": []
  }
 ],
 "metadata": {
  "kernelspec": {
   "display_name": "Python 3 (ipykernel)",
   "language": "python",
   "name": "python3"
  },
  "language_info": {
   "codemirror_mode": {
    "name": "ipython",
    "version": 3
   },
   "file_extension": ".py",
   "mimetype": "text/x-python",
   "name": "python",
   "nbconvert_exporter": "python",
   "pygments_lexer": "ipython3",
   "version": "3.11.1"
  }
 },
 "nbformat": 4,
 "nbformat_minor": 5
}
